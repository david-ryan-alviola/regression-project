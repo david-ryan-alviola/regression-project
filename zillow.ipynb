{
 "cells": [
  {
   "cell_type": "code",
   "execution_count": 1,
   "id": "whole-claim",
   "metadata": {},
   "outputs": [],
   "source": [
    "from acquire import acquire_zillow\n",
    "from prepare import prepare_zillow\n",
    "from utilities import nan_null_empty_check, explore_univariate"
   ]
  },
  {
   "cell_type": "markdown",
   "id": "monetary-pregnancy",
   "metadata": {},
   "source": [
    "# Attention Grabbing Title!\n",
    "\n",
    "## Executive Summary\n",
    "\n",
    "## Planning\n",
    "\n",
    "#### Data Dictionary\n",
    "\n",
    "## Acquisition\n",
    "\n",
    "Data was obtained from the *zillow* database using this query:\n",
    "> `SELECT bathroomcnt, bedroomcnt, calculatedfinishedsquarefeet, taxvaluedollarcnt, taxamount, fips\n",
    "\tFROM properties_2017\n",
    "\t\tJOIN predictions_2017 USING(parcelid)\n",
    "\tWHERE (transactiondate BETWEEN '2017-05-01' AND '2017-08-31')\n",
    "\t\tAND (unitcnt = 1 OR propertylandusetypeid IN (261, 279, 262, 263, 264, 266, 275))\n",
    "\t\tAND calculatedfinishedsquarefeet IS NOT NULL\n",
    "\t\tAND bathroomcnt IS NOT NULL\n",
    "\t\tAND bedroomcnt IS NOT NULL\n",
    "\t\tAND fips IS NOT NULL\n",
    "\t\tAND taxvaluedollarcnt IS NOT NULL\n",
    "\t\tAND taxamount IS NOT NULL;`\n",
    "\n",
    "Initially, using only `unitcnt = 1` did not provide adequate distribution of data points across the different FIPS county codes, so additional `propertylandusetypeid` values were used to bring in more data. Single unit properties were defined as \"a property that can be purchased or rented as a single entity.\" These `propertylandusetypeid` values met that definition:\n",
    "* 261 - single family residential \n",
    "* 262 - rural residence\n",
    "* 263 - mobile home\n",
    "* 264 - townhouse\n",
    "* 266 - condominium\n",
    "* 275 - manufactured, modular, prefabricated homes\n",
    "* 279 - inferred single family residential\n",
    "\n",
    "The acquisition was scripted with the `acquire_zillow` function."
   ]
  },
  {
   "cell_type": "code",
   "execution_count": 2,
   "id": "peripheral-humor",
   "metadata": {},
   "outputs": [],
   "source": [
    "zillow_df = acquire_zillow()"
   ]
  },
  {
   "cell_type": "markdown",
   "id": "scientific-belarus",
   "metadata": {},
   "source": [
    "## Preparation\n",
    "\n",
    "The resulting data frame was double-checked for missing values and none were found."
   ]
  },
  {
   "cell_type": "code",
   "execution_count": 3,
   "id": "impressive-canon",
   "metadata": {},
   "outputs": [
    {
     "name": "stdout",
     "output_type": "stream",
     "text": [
      "NaN values\n",
      "Empty DataFrame\n",
      "Columns: [rows, columns]\n",
      "Index: []\n",
      "--------------------------------\n",
      "Empty values\n",
      "Empty DataFrame\n",
      "Columns: [rows, columns]\n",
      "Index: []\n",
      "--------------------------------\n"
     ]
    },
    {
     "data": {
      "text/plain": [
       "{'nan_positions': (array([], dtype=int64), array([], dtype=int64)),\n",
       " 'empty_positions': (array([], dtype=int64), array([], dtype=int64))}"
      ]
     },
     "execution_count": 3,
     "metadata": {},
     "output_type": "execute_result"
    }
   ],
   "source": [
    "nan_null_empty_check(zillow_df)"
   ]
  },
  {
   "cell_type": "markdown",
   "id": "manual-kuwait",
   "metadata": {},
   "source": [
    "The selected features were all numerical values and the only apparent task from the information on the data frame was renaming the column names."
   ]
  },
  {
   "cell_type": "code",
   "execution_count": 4,
   "id": "decent-stephen",
   "metadata": {},
   "outputs": [
    {
     "name": "stdout",
     "output_type": "stream",
     "text": [
      "<class 'pandas.core.frame.DataFrame'>\n",
      "RangeIndex: 39386 entries, 0 to 39385\n",
      "Data columns (total 6 columns):\n",
      " #   Column                        Non-Null Count  Dtype  \n",
      "---  ------                        --------------  -----  \n",
      " 0   bathroomcnt                   39386 non-null  float64\n",
      " 1   bedroomcnt                    39386 non-null  float64\n",
      " 2   calculatedfinishedsquarefeet  39386 non-null  float64\n",
      " 3   taxvaluedollarcnt             39386 non-null  float64\n",
      " 4   taxamount                     39386 non-null  float64\n",
      " 5   fips                          39386 non-null  float64\n",
      "dtypes: float64(6)\n",
      "memory usage: 1.8 MB\n"
     ]
    }
   ],
   "source": [
    "zillow_df.info()"
   ]
  },
  {
   "cell_type": "markdown",
   "id": "higher-field",
   "metadata": {},
   "source": [
    "However, univariate exploration revealed that outliers were skewing the distributions of the features to the right and they would have to be removed. 1.5 * IQR was used to determine the lower and upper bounds for outliers."
   ]
  },
  {
   "cell_type": "code",
   "execution_count": 5,
   "id": "center-debut",
   "metadata": {
    "collapsed": true,
    "jupyter": {
     "outputs_hidden": true
    }
   },
   "outputs": [
    {
     "data": {
      "image/png": "[encoded data removed]",
      "text/plain": [
       "<Figure size 576x144 with 2 Axes>"
      ]
     },
     "metadata": {
      "needs_background": "light"
     },
     "output_type": "display_data"
    },
    {
     "name": "stdout",
     "output_type": "stream",
     "text": [
      "count    39386.000000\n",
      "mean         2.298240\n",
      "std          0.948054\n",
      "min          0.000000\n",
      "25%          2.000000\n",
      "50%          2.000000\n",
      "75%          3.000000\n",
      "max         11.000000\n",
      "Name: bathroomcnt, dtype: float64\n"
     ]
    },
    {
     "data": {
      "image/png": "[encoded data removed]",
      "text/plain": [
       "<Figure size 576x144 with 2 Axes>"
      ]
     },
     "metadata": {
      "needs_background": "light"
     },
     "output_type": "display_data"
    },
    {
     "name": "stdout",
     "output_type": "stream",
     "text": [
      "count    39386.000000\n",
      "mean         3.027370\n",
      "std          1.015964\n",
      "min          0.000000\n",
      "25%          2.000000\n",
      "50%          3.000000\n",
      "75%          4.000000\n",
      "max         12.000000\n",
      "Name: bedroomcnt, dtype: float64\n"
     ]
    },
    {
     "data": {
      "image/png": "[encoded data removed]",
      "text/plain": [
       "<Figure size 576x144 with 2 Axes>"
      ]
     },
     "metadata": {
      "needs_background": "light"
     },
     "output_type": "display_data"
    },
    {
     "name": "stdout",
     "output_type": "stream",
     "text": [
      "count    3.938600e+04\n",
      "mean     4.969656e+05\n",
      "std      6.244538e+05\n",
      "min      1.000000e+03\n",
      "25%      2.118852e+05\n",
      "50%      3.669950e+05\n",
      "75%      5.798970e+05\n",
      "max      2.385837e+07\n",
      "Name: taxvaluedollarcnt, dtype: float64\n"
     ]
    },
    {
     "data": {
      "image/png": "[encoded data removed]",
      "text/plain": [
       "<Figure size 576x144 with 2 Axes>"
      ]
     },
     "metadata": {
      "needs_background": "light"
     },
     "output_type": "display_data"
    },
    {
     "name": "stdout",
     "output_type": "stream",
     "text": [
      "count    39386.000000\n",
      "mean      1773.808079\n",
      "std        946.259135\n",
      "min        240.000000\n",
      "25%       1180.000000\n",
      "50%       1538.000000\n",
      "75%       2095.000000\n",
      "max      35640.000000\n",
      "Name: calculatedfinishedsquarefeet, dtype: float64\n"
     ]
    }
   ],
   "source": [
    "explore_univariate(zillow_df, [], quant_vars=['bathroomcnt', 'bedroomcnt', 'taxvaluedollarcnt', 'calculatedfinishedsquarefeet'])"
   ]
  },
  {
   "cell_type": "markdown",
   "id": "atmospheric-sixth",
   "metadata": {},
   "source": [
    "These preparation steps were scripted into the `prepare_zillow` function that returns a dictionary containing the prepared data frame of the entire population and the train, validate, test samples. The removal of outliers made the bathroom and bedroom distributions more normal, but tax value and total square feet distributions remained right skewed, but to a lesser degree."
   ]
  },
  {
   "cell_type": "code",
   "execution_count": 6,
   "id": "annual-fusion",
   "metadata": {},
   "outputs": [],
   "source": [
    "prepped_data = prepare_zillow(zillow_df)\n",
    "\n",
    "population = prepped_data['population']\n",
    "train, validate, test = prepped_data['samples']"
   ]
  },
  {
   "cell_type": "code",
   "execution_count": 7,
   "id": "suffering-birth",
   "metadata": {
    "collapsed": true,
    "jupyter": {
     "outputs_hidden": true
    }
   },
   "outputs": [
    {
     "data": {
      "image/png": "[encoded data removed]",
      "text/plain": [
       "<Figure size 576x144 with 2 Axes>"
      ]
     },
     "metadata": {
      "needs_background": "light"
     },
     "output_type": "display_data"
    },
    {
     "name": "stdout",
     "output_type": "stream",
     "text": [
      "count    35817.000000\n",
      "mean         2.140562\n",
      "std          0.723454\n",
      "min          1.000000\n",
      "25%          2.000000\n",
      "50%          2.000000\n",
      "75%          3.000000\n",
      "max          4.000000\n",
      "Name: bathrooms, dtype: float64\n"
     ]
    },
    {
     "data": {
      "image/png": "[encoded data removed]",
      "text/plain": [
       "<Figure size 576x144 with 2 Axes>"
      ]
     },
     "metadata": {
      "needs_background": "light"
     },
     "output_type": "display_data"
    },
    {
     "name": "stdout",
     "output_type": "stream",
     "text": [
      "count    35817.000000\n",
      "mean         2.925064\n",
      "std          0.934158\n",
      "min          0.000000\n",
      "25%          2.000000\n",
      "50%          3.000000\n",
      "75%          4.000000\n",
      "max          6.000000\n",
      "Name: bedrooms, dtype: float64\n"
     ]
    },
    {
     "data": {
      "image/png": "[encoded data removed]",
      "text/plain": [
       "<Figure size 576x144 with 2 Axes>"
      ]
     },
     "metadata": {
      "needs_background": "light"
     },
     "output_type": "display_data"
    },
    {
     "name": "stdout",
     "output_type": "stream",
     "text": [
      "count    3.581700e+04\n",
      "mean     3.761109e+05\n",
      "std      2.331854e+05\n",
      "min      1.000000e+03\n",
      "25%      1.976420e+05\n",
      "50%      3.401180e+05\n",
      "75%      5.083130e+05\n",
      "max      1.131770e+06\n",
      "Name: tax_value, dtype: float64\n"
     ]
    },
    {
     "data": {
      "image/png": "[encoded data removed]",
      "text/plain": [
       "<Figure size 576x144 with 2 Axes>"
      ]
     },
     "metadata": {
      "needs_background": "light"
     },
     "output_type": "display_data"
    },
    {
     "name": "stdout",
     "output_type": "stream",
     "text": [
      "count    35817.000000\n",
      "mean      1588.878186\n",
      "std        598.431572\n",
      "min        240.000000\n",
      "25%       1150.000000\n",
      "50%       1470.000000\n",
      "75%       1919.000000\n",
      "max       3466.000000\n",
      "Name: total_sqft, dtype: float64\n"
     ]
    }
   ],
   "source": [
    "explore_univariate(population, [], ['bathrooms', 'bedrooms', 'tax_value', 'total_sqft'])"
   ]
  },
  {
   "cell_type": "code",
   "execution_count": null,
   "id": "saved-twenty",
   "metadata": {},
   "outputs": [],
   "source": []
  }
 ],
 "metadata": {
  "kernelspec": {
   "display_name": "Python 3",
   "language": "python",
   "name": "python3"
  },
  "language_info": {
   "codemirror_mode": {
    "name": "ipython",
    "version": 3
   },
   "file_extension": ".py",
   "mimetype": "text/x-python",
   "name": "python",
   "nbconvert_exporter": "python",
   "pygments_lexer": "ipython3",
   "version": "3.8.5"
  }
 },
 "nbformat": 4,
 "nbformat_minor": 5
}
